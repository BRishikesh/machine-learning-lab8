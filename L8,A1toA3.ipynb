{
 "cells": [
  {
   "cell_type": "code",
   "execution_count": 10,
   "id": "b18af5a8",
   "metadata": {},
   "outputs": [
    {
     "name": "stdout",
     "output_type": "stream",
     "text": [
      "Prior probability for each class:\n",
      "yes    0.642857\n",
      "no     0.357143\n",
      "Name: buys_computer, dtype: float64\n",
      "no     0.5\n",
      "yes    0.5\n",
      "Name: student, dtype: float64\n"
     ]
    }
   ],
   "source": [
    "import pandas as pd\n",
    "\n",
    "# Your dataset\n",
    "data = {\n",
    "    'age': ['<=30', '<=30', '31...40', '>40', '>40', '>40', '31...40', '<=30', '<=30', '>40', '<=30', '31...40', '31...40', '>40'],\n",
    "    'income': ['high', 'high', 'high', 'medium', 'low', 'low', 'low', 'medium', 'low', 'medium', 'medium', 'medium', 'high', 'medium'],\n",
    "    'student': ['no', 'no', 'no', 'no', 'yes', 'yes', 'yes', 'no', 'yes', 'yes', 'yes', 'no', 'yes', 'no'],\n",
    "    'credit_rating': ['fair', 'excellent', 'fair', 'fair', 'fair', 'excellent', 'excellent', 'fair', 'fair', 'fair', 'excellent', 'excellent', 'fair', 'excellent'],\n",
    "    'buys_computer': ['no', 'no', 'yes', 'yes', 'yes', 'no', 'yes', 'no', 'yes', 'yes', 'yes', 'yes', 'yes', 'no']\n",
    "}\n",
    "\n",
    "# Create a DataFrame\n",
    "df = pd.DataFrame(data)\n",
    "\n",
    "# Calculate the prior probability for each class\n",
    "prior_prob = df['buys_computer'].value_counts(normalize=True)\n",
    "prior_probs = df['student'].value_counts(normalize=True)\n",
    "\n",
    "print(\"Prior probability for each class:\")\n",
    "print(prior_prob)\n",
    "print(prior_probs)\n"
   ]
  },
  {
   "cell_type": "code",
   "execution_count": 12,
   "id": "e05131a6",
   "metadata": {},
   "outputs": [
    {
     "name": "stdout",
     "output_type": "stream",
     "text": [
      "Class conditional densities for 'age':\n",
      "buys_computer  age    \n",
      "no             <=30       0.600000\n",
      "               >40        0.400000\n",
      "yes            31...40    0.444444\n",
      "               >40        0.333333\n",
      "               <=30       0.222222\n",
      "Name: age, dtype: float64\n",
      "Class conditional densities for 'income':\n",
      "buys_computer  income\n",
      "no             high      0.400000\n",
      "               medium    0.400000\n",
      "               low       0.200000\n",
      "yes            medium    0.444444\n",
      "               low       0.333333\n",
      "               high      0.222222\n",
      "Name: income, dtype: float64\n",
      "Class conditional densities for 'student':\n",
      "buys_computer  student\n",
      "no             no         0.800000\n",
      "               yes        0.200000\n",
      "yes            yes        0.666667\n",
      "               no         0.333333\n",
      "Name: student, dtype: float64\n",
      "Class conditional densities for 'credit_rating':\n",
      "buys_computer  credit_rating\n",
      "no             excellent        0.600000\n",
      "               fair             0.400000\n",
      "yes            fair             0.666667\n",
      "               excellent        0.333333\n",
      "Name: credit_rating, dtype: float64\n"
     ]
    }
   ],
   "source": [
    "import pandas as pd\n",
    "from scipy.stats import norm\n",
    "\n",
    "# Your dataset\n",
    "data = {\n",
    "    'age': ['<=30', '<=30', '31...40', '>40', '>40', '>40', '31...40', '<=30', '<=30', '>40', '<=30', '31...40', '31...40', '>40'],\n",
    "    'income': ['high', 'high', 'high', 'medium', 'low', 'low', 'low', 'medium', 'low', 'medium', 'medium', 'medium', 'high', 'medium'],\n",
    "    'student': ['no', 'no', 'no', 'no', 'yes', 'yes', 'yes', 'no', 'yes', 'yes', 'yes', 'no', 'yes', 'no'],\n",
    "    'credit_rating': ['fair', 'excellent', 'fair', 'fair', 'fair', 'excellent', 'excellent', 'fair', 'fair', 'fair', 'excellent', 'excellent', 'fair', 'excellent'],\n",
    "    'buys_computer': ['no', 'no', 'yes', 'yes', 'yes', 'no', 'yes', 'no', 'yes', 'yes', 'yes', 'yes', 'yes', 'no']\n",
    "}\n",
    "\n",
    "# Create a DataFrame\n",
    "df = pd.DataFrame(data)\n",
    "\n",
    "# Function to calculate class conditional densities for categorical features\n",
    "def calc_categorical_density(feature, target_class):\n",
    "    grouped = df.groupby(target_class)[feature].value_counts(normalize=True)\n",
    "    return grouped\n",
    "\n",
    "# Function to calculate class conditional densities for continuous features\n",
    "def calc_continuous_density(feature, target_class):\n",
    "    grouped = df.groupby(target_class)[feature]\n",
    "    class_densities = {}\n",
    "    for cls, group in grouped:\n",
    "        values = group.values\n",
    "        if values.dtype != object:  # Check if the feature is continuous (assuming non-object dtype as continuous)\n",
    "            mean, std = norm.fit(values.astype(float))\n",
    "            class_densities[cls] = (mean, std)\n",
    "    return class_densities\n",
    "\n",
    "# Calculate class conditional densities for each feature and class\n",
    "features = ['age', 'income', 'student', 'credit_rating']\n",
    "target_class = 'buys_computer'\n",
    "\n",
    "for feature in features:\n",
    "    print(f\"Class conditional densities for '{feature}':\")\n",
    "    if df[feature].dtype == object:  # Categorical feature\n",
    "        densities = calculate_categorical_density(feature, target_class)\n",
    "        print(densities)\n",
    "    else:  # Continuous feature\n",
    "        densities = calculate_continuous_density(feature, target_class)\n",
    "        print(densities)\n"
   ]
  },
  {
   "cell_type": "code",
   "execution_count": 14,
   "id": "a896ee0f",
   "metadata": {},
   "outputs": [
    {
     "name": "stdout",
     "output_type": "stream",
     "text": [
      "Chi-Square value: 13.999999999999996\n",
      "P-value: 0.3738439767150162\n"
     ]
    }
   ],
   "source": [
    "import pandas as pd\n",
    "from scipy.stats import chi2_contingency\n",
    "\n",
    "# Your dataset\n",
    "data = {\n",
    "    'age': ['<=30', '<=30', '31...40', '>40', '>40', '>40', '31...40', '<=30', '<=30', '>40', '<=30', '31...40', '31...40', '>40'],\n",
    "    'income': ['high', 'high', 'high', 'medium', 'low', 'low', 'low', 'medium', 'low', 'medium', 'medium', 'medium', 'high', 'medium'],\n",
    "    'student': ['no', 'no', 'no', 'no', 'yes', 'yes', 'yes', 'no', 'yes', 'yes', 'yes', 'no', 'yes', 'no'],\n",
    "    'credit_rating': ['fair', 'excellent', 'fair', 'fair', 'fair', 'excellent', 'excellent', 'fair', 'fair', 'fair', 'excellent', 'excellent', 'fair', 'excellent'],\n",
    "    'buys_computer': ['no', 'no', 'yes', 'yes', 'yes', 'no', 'yes', 'no', 'yes', 'yes', 'yes', 'yes', 'yes', 'no']\n",
    "}\n",
    "\n",
    "# Create a DataFrame\n",
    "df = pd.DataFrame(data)\n",
    "\n",
    "# Selecting columns for the test\n",
    "columns_to_test = ['age', 'income', 'student', 'credit_rating']\n",
    "\n",
    "# Creating a contingency table\n",
    "contingency_table = pd.crosstab(index=df['buys_computer'], columns=[df[col] for col in columns_to_test])\n",
    "\n",
    "# Performing the Chi-Square test of independence\n",
    "chi2, p_value, dof, expected = chi2_contingency(contingency_table)\n",
    "\n",
    "print(f\"Chi-Square value: {chi2}\")\n",
    "print(f\"P-value: {p_value}\")\n",
    "\n"
   ]
  },
  {
   "cell_type": "code",
   "execution_count": null,
   "id": "0fa0422f",
   "metadata": {},
   "outputs": [],
   "source": []
  }
 ],
 "metadata": {
  "kernelspec": {
   "display_name": "Python 3 (ipykernel)",
   "language": "python",
   "name": "python3"
  },
  "language_info": {
   "codemirror_mode": {
    "name": "ipython",
    "version": 3
   },
   "file_extension": ".py",
   "mimetype": "text/x-python",
   "name": "python",
   "nbconvert_exporter": "python",
   "pygments_lexer": "ipython3",
   "version": "3.11.4"
  }
 },
 "nbformat": 4,
 "nbformat_minor": 5
}
